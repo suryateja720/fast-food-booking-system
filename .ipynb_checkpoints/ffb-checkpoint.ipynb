{
 "cells": [
  {
   "cell_type": "code",
   "execution_count": null,
   "metadata": {},
   "outputs": [],
   "source": []
  },
  {
   "cell_type": "markdown",
   "metadata": {},
   "source": [
    " DBName : ffb\n",
    "\n",
    " Tables :\n",
    "\n",
    "   admin :\n",
    "       - id      varchar(8)      primary_key\n",
    "       - full_name     varchar(30)\n",
    "       - user_name     varchar(15)     \n",
    "       - password      varchar(8)\n",
    "       - phone_number   numeric(10)\n",
    "       - login_status   enum('logged in','logged out') default 'logged out'\n",
    "\n",
    "   category :\n",
    "       - category_id   varchar(8)      primary_key\n",
    "       - title         varchar(10)\n",
    "       - image         varchar(255)\n",
    "\n",
    "   food :\n",
    "       - food_id       varchar(8)      primary_key\n",
    "       - title         varchar(50)\n",
    "       - description   varchar(255)\n",
    "       - price         float(10,2)\n",
    "       - image         varchar(255)\n",
    "       - category_id   varchar(8)      foreign_key\n",
    "\n",
    "   user :\n",
    "       - id        varchar(8)      primary_key\n",
    "       - full_name      varchar(30) \n",
    "       - user_name      varchar(15)     \n",
    "       - password       varchar(8)\n",
    "       - phone_number   numeric(10)\n",
    "       - login_status   enum('logged in','logged out') default 'logged out'\n",
    "\n",
    "   order :\n",
    "       - order_id       varchar(8)      primary_key\n",
    "       - food_id        varchar(8)      foriegn_key + primary_key\n",
    "       - booking_time   date\n",
    "       - user_id        varchar(8)      foriegn_key\n",
    "       - quantity       numeric(2)"
   ]
  },
  {
   "cell_type": "code",
   "execution_count": 1,
   "metadata": {},
   "outputs": [],
   "source": [
    "import mysql.connector as sql\n",
    "\n",
    "cnx = sql.connect(user = 'root',\n",
    "                  host = 'localhost',\n",
    "                  database = 'ffb')\n",
    "cursor = cnx.cursor()"
   ]
  },
  {
   "cell_type": "code",
   "execution_count": 2,
   "metadata": {},
   "outputs": [
    {
     "name": "stdout",
     "output_type": "stream",
     "text": [
      "admin table created!\n"
     ]
    }
   ],
   "source": [
    "# admin :\n",
    "#       - id      varchar(8)      primary_key\n",
    "#       - full_name     varchar(30)\n",
    "#       - user_name     varchar(15)\n",
    "#       - password      varchar(8)\n",
    "#       - phone_number   numeric(10)\n",
    "\n",
    "query = \"\"\"\n",
    "        create table admin(\n",
    "            id varchar(8) not null primary key,\n",
    "            full_name     varchar(30),\n",
    "            user_name     varchar(15),\n",
    "            password      varchar(8),\n",
    "            phone_number   numeric(10)\n",
    "            login_status  enum('logged in','logged out') default 'logged out'\n",
    "        )\n",
    "        \"\"\"\n",
    "\n",
    "cursor.execute(query)\n",
    "print('admin table created!')"
   ]
  },
  {
   "cell_type": "code",
   "execution_count": 6,
   "metadata": {},
   "outputs": [
    {
     "name": "stdout",
     "output_type": "stream",
     "text": [
      "category table created!\n"
     ]
    }
   ],
   "source": [
    "# category :\n",
    "#        - category_id   varchar(8)      primary_key\n",
    "#        - title         varchar(10)\n",
    "#        - image         varchar(255)\n",
    "\n",
    "query = \"\"\"\n",
    "        create table category(\n",
    "            category_id   varchar(8) not null primary key,\n",
    "            title         varchar(30),\n",
    "            image         varchar(255)\n",
    "        )\n",
    "        \"\"\"\n",
    "\n",
    "cursor.execute(query)\n",
    "print('category table created!')"
   ]
  },
  {
   "cell_type": "code",
   "execution_count": 19,
   "metadata": {},
   "outputs": [
    {
     "name": "stdout",
     "output_type": "stream",
     "text": [
      "food table created!\n"
     ]
    }
   ],
   "source": [
    "# food :\n",
    "#        - food_id       varchar(8)      primary_key\n",
    "#        - title         varchar(50)\n",
    "#        - description   varchar(255)\n",
    "#        - price         float(10,2)\n",
    "#        - image         varchar(255)\n",
    "#        - category_id   varchar(8)      foreign_key\n",
    "\n",
    "query = \"\"\"\n",
    "        create table food(\n",
    "            food_id       varchar(8) not null primary key,\n",
    "            title         varchar(50),\n",
    "            description   varchar(255),\n",
    "            price         float(10,2),\n",
    "            image         varchar(255),\n",
    "            category_id   varchar(8),   \n",
    "            foreign key (category_id) references category(category_id)\n",
    "        )\n",
    "        \"\"\"\n",
    "\n",
    "cursor.execute(query)\n",
    "print('food table created!')\n"
   ]
  },
  {
   "cell_type": "code",
   "execution_count": 11,
   "metadata": {},
   "outputs": [
    {
     "name": "stdout",
     "output_type": "stream",
     "text": [
      "user table created!\n"
     ]
    }
   ],
   "source": [
    "# user :\n",
    "#        - id        varchar(8)      primary_key\n",
    "#        - full_name      varchar(30) \n",
    "#        - user_name      varchar(15)\n",
    "#        - password       varchar(8)\n",
    "#        - phone_number   numeric(10)\n",
    "#        - login_status   enum('logged in','logged out') default 'logged out'\n",
    "\n",
    "query = \"\"\"\n",
    "        create table user(\n",
    "            user_id        varchar(8) not null primary key,\n",
    "            full_name      varchar(30),\n",
    "            user_name      varchar(15),\n",
    "            password       varchar(8),\n",
    "            phone_number   numeric(10),\n",
    "            login_status   enum('logged in','logged out') default 'logged out'\n",
    "        )\n",
    "        \"\"\"\n",
    "\n",
    "cursor.execute(query)\n",
    "print('user table created!')\n"
   ]
  },
  {
   "cell_type": "code",
   "execution_count": 13,
   "metadata": {},
   "outputs": [
    {
     "name": "stdout",
     "output_type": "stream",
     "text": [
      "orders table created!\n"
     ]
    }
   ],
   "source": [
    "# orders :\n",
    "#        - order_id       varchar(8)      primary_key\n",
    "#        - food_id        varchar(8)      foriegn_key + primary_key\n",
    "#        - booking_time   date\n",
    "#        - user_id        varchar(8)      foriegn_key\n",
    "#        - quantity       numeric(2)\n",
    "\n",
    "query = \"\"\"\n",
    "        create table orders(\n",
    "            order_id       varchar(8) not null,\n",
    "            food_id        varchar(8) not null,\n",
    "            booking_time   date,\n",
    "            user_id        varchar(8),\n",
    "            quantity       numeric(2),\n",
    "            primary key (order_id,food_id),\n",
    "            foreign key (user_id) references user (user_id)\n",
    "        )\n",
    "        \"\"\"\n",
    "\n",
    "cursor.execute(query)\n",
    "print('orders table created!')\n"
   ]
  },
  {
   "cell_type": "code",
   "execution_count": 10,
   "metadata": {},
   "outputs": [
    {
     "name": "stdout",
     "output_type": "stream",
     "text": [
      "Categories inserted!\n"
     ]
    }
   ],
   "source": [
    "# Inserting Categories\n",
    "\n",
    "query = \"insert into category values(%s,%s,%s)\"\n",
    "\n",
    "data = [('cat01','Burgers',None),\n",
    "        ('cat02','Sandwiches',None),\n",
    "        ('cat03','Fried Chicken',None),\n",
    "        ('cat04','Pizza',None),\n",
    "        ('cat05','Tacos and Burritos',None),\n",
    "        ('cat06','Salads',None),\n",
    "        ('cat07','Sides',None),\n",
    "        ('cat08','Desserts',None),\n",
    "        ('cat09','Beverages',None)]\n",
    "\n",
    "cursor.executemany(query,data)\n",
    "cnx.commit()\n",
    "print('Categories inserted!')\n"
   ]
  },
  {
   "cell_type": "code",
   "execution_count": 11,
   "metadata": {},
   "outputs": [
    {
     "name": "stdout",
     "output_type": "stream",
     "text": [
      "food data inserted!\n"
     ]
    }
   ],
   "source": [
    "# Inserting Food\n",
    "\n",
    "query = \"insert into food values(%s,%s,%s,%s,%s,%s)\"\n",
    "\n",
    "data = [('fd001','Cheese Burger','cheese burger',99.00,None,'cat01'),\n",
    "        ('fd002','Veggie Burger','veggie burger',79.00,None,'cat01'),\n",
    "        ('fd003','Chicken Burger','chicken burger',99.00,None,'cat01'),\n",
    "\n",
    "        ('fd004','veg Sandwich','veg sandwich',129.00,None,'cat02'),\n",
    "        ('fd005','Panner Sandwich','panner sandwich',149.00,None,'cat02'),\n",
    "        ('fd006','Chicken Sandwich','chicken sandwich',99.00,None,'cat02'),\n",
    "\n",
    "        ('fd007','Wings','wings',129.00,None,'cat03'),\n",
    "        ('fd008','Drumsticks','drumsticks',179.00,None,'cat03'),\n",
    "        ('fd009','Popcorn','popcorn',99.00,None,'cat03')\n",
    "        ]\n",
    "\n",
    "cursor.executemany(query,data)\n",
    "cnx.commit()\n",
    "print('food data inserted!')"
   ]
  },
  {
   "cell_type": "code",
   "execution_count": 37,
   "metadata": {},
   "outputs": [],
   "source": [
    "# ffb\n",
    "\n",
    "class FFB :\n",
    "\n",
    "    def __init__(self,cursor):\n",
    "        self.cursor = cursor\n",
    "        self.usertype = None\n",
    "        self.ID = None\n",
    "        self.username = None\n",
    "        self.password = None\n",
    "        \n",
    "    def show_categories_food(self):\n",
    "        query = \"select category_id,title from category\"\n",
    "        self.cursor.execute(query)\n",
    "        categories = self.cursor.fetchall()\n",
    "        res = {}\n",
    "        for rows in categories :\n",
    "            query = \"select * from food where category_id = %s \"\n",
    "            self.cursor.execute(query,[rows[0]])\n",
    "            details = self.cursor.fetchall()\n",
    "            res[rows] = details\n",
    "        return res\n",
    "\n",
    "    def login(self,usertype,username,password) : \n",
    "        query = \"select * from \"+usertype+\" where user_name = %s\"\n",
    "        self.cursor.execute(query,[username])\n",
    "        userDetails = self.cursor.fetchall()[0]\n",
    "        if len(userDetails)==0 :\n",
    "            print(\"\\nUser Not Found!\")\n",
    "            return 0\n",
    "        if password != userDetails[3]:\n",
    "            print(\"\\nPassword not matched!\")\n",
    "            return 0\n",
    "        query = \"update \"+usertype+\" set login_status = %s where user_name= %s\"\n",
    "        self.cursor.execute(query,['logged in',username])\n",
    "        self.usertype = usertype\n",
    "        self.ID = userDetails[0]\n",
    "        self.username = userDetails[2]\n",
    "        self.password = userDetails[3]\n",
    "        return 1\n",
    "             \n",
    "    def register(self,usertype,fullname,username,password,phone):\n",
    "        query = \"select * from \"+usertype+\" where user_name = %s\"\n",
    "        self.cursor.execute(query,[username])\n",
    "        rows = self.cursor.fetchall()\n",
    "        if  len(rows[0]) :\n",
    "            print('\\nUser Already Exists!')\n",
    "            return 0\n",
    "        query = \"select * from \"+usertype\n",
    "        self.cursor.execute(query)\n",
    "        rows = self.cursor.fetchall()\n",
    "        \n",
    "        id = 'ID'+str(len(rows)+1).rjust(4, '0')\n",
    "        query = \"insert into \"+usertype+\" values(%s,%s,%s,%s,%s,%s)\"\n",
    "        self.cursor.execute(query,[id,fullname,username,password,phone,'logged in'])\n",
    "        cnx.commit()\n",
    "        self.usertype = usertype\n",
    "        self.ID = id\n",
    "        self.username = username\n",
    "        self.password = password\n",
    "        return 1"
   ]
  },
  {
   "cell_type": "code",
   "execution_count": 38,
   "metadata": {},
   "outputs": [
    {
     "name": "stdout",
     "output_type": "stream",
     "text": [
      "\n",
      "User Name :  None\n",
      "[('cat01', 'Burgers'), ('cat02', 'Sandwiches'), ('cat03', 'Fried Chicken'), ('cat04', 'Pizza'), ('cat05', 'Tacos and Burritos'), ('cat06', 'Salads'), ('cat07', 'Sides'), ('cat08', 'Desserts'), ('cat09', 'Beverages')]\n",
      "cat01\n",
      "cat02\n",
      "cat03\n",
      "cat04\n",
      "cat05\n",
      "cat06\n",
      "cat07\n",
      "cat08\n",
      "cat09\n"
     ]
    },
    {
     "data": {
      "text/plain": [
       "{('cat01',\n",
       "  'Burgers'): [('fd001',\n",
       "   'Cheese Burger',\n",
       "   'cheese burger',\n",
       "   99.0,\n",
       "   None,\n",
       "   'cat01'), ('fd002',\n",
       "   'Veggie Burger',\n",
       "   'veggie burger',\n",
       "   79.0,\n",
       "   None,\n",
       "   'cat01'), ('fd003',\n",
       "   'Chicken Burger',\n",
       "   'chicken burger',\n",
       "   99.0,\n",
       "   None,\n",
       "   'cat01')],\n",
       " ('cat02',\n",
       "  'Sandwiches'): [('fd004',\n",
       "   'veg Sandwich',\n",
       "   'veg sandwich',\n",
       "   129.0,\n",
       "   None,\n",
       "   'cat02'), ('fd005',\n",
       "   'Panner Sandwich',\n",
       "   'panner sandwich',\n",
       "   149.0,\n",
       "   None,\n",
       "   'cat02'), ('fd006',\n",
       "   'Chicken Sandwich',\n",
       "   'chicken sandwich',\n",
       "   99.0,\n",
       "   None,\n",
       "   'cat02')],\n",
       " ('cat03',\n",
       "  'Fried Chicken'): [('fd007',\n",
       "   'Wings',\n",
       "   'wings',\n",
       "   129.0,\n",
       "   None,\n",
       "   'cat03'), ('fd008', 'Drumsticks', 'drumsticks', 179.0, None, 'cat03'), ('fd009',\n",
       "   'Popcorn',\n",
       "   'popcorn',\n",
       "   99.0,\n",
       "   None,\n",
       "   'cat03')],\n",
       " ('cat04', 'Pizza'): [],\n",
       " ('cat05', 'Tacos and Burritos'): [],\n",
       " ('cat06', 'Salads'): [],\n",
       " ('cat07', 'Sides'): [],\n",
       " ('cat08', 'Desserts'): [],\n",
       " ('cat09', 'Beverages'): []}"
      ]
     },
     "execution_count": 38,
     "metadata": {},
     "output_type": "execute_result"
    }
   ],
   "source": [
    "from IPython.display import clear_output\n",
    "\n",
    "ffb = FFB(cursor)\n",
    "\n",
    "# Sign In / Sign Up\n",
    "clear_output()\n",
    "# print(\"\\nSelect an option :\")\n",
    "# print(\"\\n1. Log in\")\n",
    "# print(\"\\n2. Register\")\n",
    "\n",
    "# op = input('Option : ')\n",
    "# clear_output()\n",
    "# if op == '1':\n",
    "#     response = 0\n",
    "#     while response == 0:\n",
    "#         usertype = input('Login Type (admin/user)?: ')\n",
    "#         username = input('User Name : ')\n",
    "#         password = input('Password : ')\n",
    "#         clear_output()\n",
    "#         response = ffb.login(usertype,username,password)\n",
    "# elif op == '2':\n",
    "#     response = 0\n",
    "#     while response == 0:\n",
    "#         usertype = input('Login Type (admin/user)?: ')\n",
    "#         fullname = input('Full Name : ')\n",
    "#         username = input('User Name : ')\n",
    "#         password = input('Password : ')\n",
    "#         phone = int(input('Phone Number : '))\n",
    "#         clear_output()\n",
    "#         response = ffb.register(usertype,fullname,username,password,phone)\n",
    "\n",
    "print('\\nUser Name : ',ffb.username)\n",
    "\n",
    "ffb.show_categories_food()\n",
    "\n",
    "\n"
   ]
  },
  {
   "cell_type": "code",
   "execution_count": 11,
   "metadata": {},
   "outputs": [],
   "source": [
    "cnx.commit()"
   ]
  },
  {
   "cell_type": "code",
   "execution_count": null,
   "metadata": {},
   "outputs": [],
   "source": []
  }
 ],
 "metadata": {
  "kernelspec": {
   "display_name": "Python 3 (ipykernel)",
   "language": "python",
   "name": "python3"
  },
  "language_info": {
   "codemirror_mode": {
    "name": "ipython",
    "version": 3
   },
   "file_extension": ".py",
   "mimetype": "text/x-python",
   "name": "python",
   "nbconvert_exporter": "python",
   "pygments_lexer": "ipython3",
   "version": "3.9.12"
  }
 },
 "nbformat": 4,
 "nbformat_minor": 2
}
