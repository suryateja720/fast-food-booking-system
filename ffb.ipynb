{
 "cells": [
  {
   "cell_type": "markdown",
   "metadata": {},
   "source": [
    " DBName : ffb\n",
    "\n",
    " Tables :\n",
    "\n",
    "   admin :\n",
    "       - id      varchar(8)      primary_key\n",
    "       - full_name     varchar(30)\n",
    "       - user_name     varchar(15)     \n",
    "       - password      varchar(8)\n",
    "       - phone_number   numeric(10)\n",
    "       - login_status   enum('logged in','logged out') default 'logged out'\n",
    "\n",
    "   category :\n",
    "       - category_id   varchar(8)      primary_key\n",
    "       - title         varchar(10)\n",
    "       - image         varchar(255)\n",
    "\n",
    "   food :\n",
    "       - food_id       varchar(8)      primary_key\n",
    "       - title         varchar(50)\n",
    "       - description   varchar(255)\n",
    "       - price         float(10,2)\n",
    "       - image         varchar(255)\n",
    "       - category_id   varchar(8)      foreign_key\n",
    "\n",
    "   user :\n",
    "       - id        varchar(8)      primary_key\n",
    "       - full_name      varchar(30) \n",
    "       - user_name      varchar(15)     \n",
    "       - password       varchar(8)\n",
    "       - phone_number   numeric(10)\n",
    "       - login_status   enum('logged in','logged out') default 'logged out'\n",
    "\n",
    "   order :\n",
    "       - order_id       varchar(8)      primary_key\n",
    "       - food_id        varchar(8)      foriegn_key + primary_key\n",
    "       - booking_time   date\n",
    "       - user_id        varchar(8)      foriegn_key\n",
    "       - quantity       numeric(2)"
   ]
  },
  {
   "cell_type": "code",
   "execution_count": 1,
   "metadata": {},
   "outputs": [],
   "source": [
    "import mysql.connector as sql\n",
    "\n",
    "cnx = sql.connect(user = 'root',\n",
    "                  host = 'localhost',\n",
    "                  database = 'ffb')\n",
    "cursor = cnx.cursor()"
   ]
  },
  {
   "cell_type": "code",
   "execution_count": 5,
   "metadata": {},
   "outputs": [
    {
     "name": "stdout",
     "output_type": "stream",
     "text": [
      "admin table created!\n"
     ]
    }
   ],
   "source": [
    "# admin :\n",
    "#       - id      varchar(8)      primary_key\n",
    "#       - full_name     varchar(30)\n",
    "#       - user_name     varchar(15)\n",
    "#       - password      varchar(8)\n",
    "#       - phone_number   numeric(10)\n",
    "\n",
    "query = \"\"\"\n",
    "        create table if not exists admin (\n",
    "            id varchar(8) not null primary key,\n",
    "            user_name     varchar(15),\n",
    "            password      varchar(8),\n",
    "            phone_number   numeric(10),\n",
    "            login_status  enum('logged in','logged out') default 'logged out'\n",
    "        )\n",
    "        \"\"\"\n",
    "\n",
    "cursor.execute(query)\n",
    "print('admin table created!')"
   ]
  },
  {
   "cell_type": "code",
   "execution_count": 6,
   "metadata": {},
   "outputs": [
    {
     "name": "stdout",
     "output_type": "stream",
     "text": [
      "category table created!\n"
     ]
    }
   ],
   "source": [
    "# category :\n",
    "#        - category_id   varchar(8)      primary_key\n",
    "#        - title         varchar(10)\n",
    "#        - image         varchar(255)\n",
    "\n",
    "query = \"\"\"\n",
    "        create table if not exists category(\n",
    "            category_id   varchar(8) not null primary key,\n",
    "            title         varchar(30),\n",
    "            image         varchar(255)\n",
    "        )\n",
    "        \"\"\"\n",
    "\n",
    "cursor.execute(query)\n",
    "print('category table created!')"
   ]
  },
  {
   "cell_type": "code",
   "execution_count": 7,
   "metadata": {},
   "outputs": [
    {
     "name": "stdout",
     "output_type": "stream",
     "text": [
      "food table created!\n"
     ]
    }
   ],
   "source": [
    "# food :\n",
    "#        - food_id       varchar(8)      primary_key\n",
    "#        - title         varchar(50)\n",
    "#        - description   varchar(255)\n",
    "#        - price         float(10,2)\n",
    "#        - image         varchar(255)\n",
    "#        - category_id   varchar(8)      foreign_key\n",
    "\n",
    "query = \"\"\"\n",
    "        create table if not exists food(\n",
    "            food_id       varchar(8) not null primary key,\n",
    "            title         varchar(50),\n",
    "            description   varchar(255),\n",
    "            price         float(10,2),\n",
    "            image         varchar(255),\n",
    "            category_id   varchar(8),   \n",
    "            foreign key (category_id) references category(category_id)\n",
    "        )\n",
    "        \"\"\"\n",
    "\n",
    "cursor.execute(query)\n",
    "print('food table created!')\n"
   ]
  },
  {
   "cell_type": "code",
   "execution_count": 8,
   "metadata": {},
   "outputs": [
    {
     "name": "stdout",
     "output_type": "stream",
     "text": [
      "user table created!\n"
     ]
    }
   ],
   "source": [
    "# user :\n",
    "#        - id        varchar(8)      primary_key\n",
    "#        - full_name      varchar(30) \n",
    "#        - user_name      varchar(15)\n",
    "#        - password       varchar(8)\n",
    "#        - phone_number   numeric(10)\n",
    "#        - login_status   enum('logged in','logged out') default 'logged out'\n",
    "\n",
    "query = \"\"\"\n",
    "        create table if not exists user(\n",
    "            user_id        varchar(8) not null primary key,\n",
    "            full_name      varchar(30),\n",
    "            user_name      varchar(15),\n",
    "            password       varchar(8),\n",
    "            phone_number   numeric(10),\n",
    "            login_status   enum('logged in','logged out') default 'logged out'\n",
    "        )\n",
    "        \"\"\"\n",
    "\n",
    "cursor.execute(query)\n",
    "print('user table created!')\n"
   ]
  },
  {
   "cell_type": "code",
   "execution_count": 9,
   "metadata": {},
   "outputs": [
    {
     "name": "stdout",
     "output_type": "stream",
     "text": [
      "orders table created!\n"
     ]
    }
   ],
   "source": [
    "# orders :\n",
    "#        - order_id       varchar(8)      primary_key\n",
    "#        - food_id        varchar(8)      foriegn_key + primary_key\n",
    "#        - booking_time   date\n",
    "#        - user_id        varchar(8)      foriegn_key\n",
    "#        - quantity       numeric(2)\n",
    "\n",
    "query = \"\"\"\n",
    "        create table if not exists orders(\n",
    "            order_id       varchar(8) not null,\n",
    "            food_id        varchar(8) not null,\n",
    "            booking_time   date,\n",
    "            user_id        varchar(8),\n",
    "            quantity       numeric(2),\n",
    "            primary key (order_id,food_id),\n",
    "            foreign key (user_id) references user (user_id)\n",
    "        )\n",
    "        \"\"\"\n",
    "\n",
    "cursor.execute(query)\n",
    "print('orders table created!')\n"
   ]
  },
  {
   "cell_type": "code",
   "execution_count": null,
   "metadata": {},
   "outputs": [],
   "source": [
    "# Inserting Categories\n",
    "\n",
    "query = \"insert into category values(%s,%s,%s)\"\n",
    "\n",
    "data = [('cat01','Burgers',None),\n",
    "        ('cat02','Sandwiches',None),\n",
    "        ('cat03','Fried Chicken',None),\n",
    "        ('cat04','Pizza',None),\n",
    "        ('cat05','Tacos and Burritos',None),\n",
    "        ('cat06','Salads',None),\n",
    "        ('cat07','Sides',None),\n",
    "        ('cat08','Desserts',None),\n",
    "        ('cat09','Beverages',None)]\n",
    "\n",
    "cursor.executemany(query,data)\n",
    "cnx.commit()\n",
    "print('Categories inserted!')\n"
   ]
  },
  {
   "cell_type": "code",
   "execution_count": null,
   "metadata": {},
   "outputs": [],
   "source": [
    "# Inserting Food\n",
    "\n",
    "query = \"insert into food values(%s,%s,%s,%s,%s,%s)\"\n",
    "\n",
    "data = [('fd001','Cheese Burger','cheese burger',99.00,None,'cat01'),\n",
    "        ('fd002','Veggie Burger','veggie burger',79.00,None,'cat01'),\n",
    "        ('fd003','Chicken Burger','chicken burger',99.00,None,'cat01'),\n",
    "\n",
    "        ('fd004','veg Sandwich','veg sandwich',129.00,None,'cat02'),\n",
    "        ('fd005','Panner Sandwich','panner sandwich',149.00,None,'cat02'),\n",
    "        ('fd006','Chicken Sandwich','chicken sandwich',99.00,None,'cat02'),\n",
    "\n",
    "        ('fd007','Wings','wings',129.00,None,'cat03'),\n",
    "        ('fd008','Drumsticks','drumsticks',179.00,None,'cat03'),\n",
    "        ('fd009','Popcorn','popcorn',99.00,None,'cat03')\n",
    "        ]\n",
    "\n",
    "cursor.executemany(query,data)\n",
    "cnx.commit()\n",
    "print('food data inserted!')"
   ]
  },
  {
   "cell_type": "code",
   "execution_count": 13,
   "metadata": {},
   "outputs": [],
   "source": [
    "from datetime import datetime\n",
    "\n",
    "# ffb\n",
    "\n",
    "class FFB :\n",
    "\n",
    "    def __init__(self,cursor):\n",
    "        self.cursor = cursor\n",
    "        self.usertype = None\n",
    "        self.ID = None\n",
    "        self.username = None\n",
    "        self.password = None\n",
    "        \n",
    "    def show_categories(self):\n",
    "        query = \"select category_id,title from category\"\n",
    "        self.cursor.execute(query)\n",
    "        categories = self.cursor.fetchall()\n",
    "        return categories\n",
    "    \n",
    "    def show_food(self,category_id):\n",
    "        query = \"select food_id,title,price from food where category_id = '\"+category_id + \"'\"\n",
    "        self.cursor.execute(query)\n",
    "        food = self.cursor.fetchall()\n",
    "        return food\n",
    "\n",
    "    def show_food_details(self,food_id):\n",
    "        query = \"select * from food where food_id = '\"+food_id+\"'\"\n",
    "        self.cursor.execute(query)\n",
    "        return self.cursor.fetchall()\n",
    "        \n",
    "    def confirm_order(self,cart):\n",
    "        query = \"select distinct(order_id) from orders\"\n",
    "        self.cursor.execute(query)\n",
    "        res = self.cursor.fetchall()\n",
    "        order_id = 'FFB'+str(len(res)+1).rjust(5, '0')\n",
    "        data = []\n",
    "        booking_time = datetime.now().strftime(\"%Y-%m-%d %H:%M:%S\") \n",
    "        for food_id in cart.keys():\n",
    "            data.append((order_id,food_id,booking_time,self.ID,cart[food_id]))\n",
    "        query = \"insert into orders values (%s,%s,%s,%s,%s)\"\n",
    "        self.cursor.executemany(query,data)\n",
    "        cnx.commit()\n",
    "        return order_id\n",
    "        \n",
    "    def login(self,usertype,username,password) : \n",
    "        query = \"select * from \"+usertype+\" where user_name = %s\"\n",
    "        self.cursor.execute(query,[username])\n",
    "        userDetails = self.cursor.fetchall()\n",
    "        if len(userDetails)==0 :\n",
    "            print(\"\\nUser Not Found!\")\n",
    "            return 0\n",
    "        if password != userDetails[0][3]:\n",
    "            print(\"\\nPassword not matched!\")\n",
    "            return 0\n",
    "        query = \"update \"+usertype+\" set login_status = %s where user_name= %s\"\n",
    "        self.cursor.execute(query,['logged in',username])\n",
    "        self.usertype = usertype\n",
    "        self.ID = userDetails[0][0]\n",
    "        self.username = userDetails[0][2]\n",
    "        self.password = userDetails[0][3]\n",
    "        return 1\n",
    "             \n",
    "    def register(self,usertype,fullname,username,password,phone):\n",
    "        query = \"select * from \"+usertype+\" where user_name = %s\"\n",
    "        self.cursor.execute(query,[username])\n",
    "        rows = self.cursor.fetchall()\n",
    "        if  len(rows[0]) :\n",
    "            print('\\nUser Already Exists!')\n",
    "            return 0\n",
    "        query = \"select * from \"+usertype\n",
    "        self.cursor.execute(query)\n",
    "        rows = self.cursor.fetchall()\n",
    "        \n",
    "        id = 'ID'+str(len(rows)+1).rjust(4, '0')\n",
    "        query = \"insert into \"+usertype+\" values(%s,%s,%s,%s,%s,%s)\"\n",
    "        self.cursor.execute(query,[id,fullname,username,password,phone,'logged in'])\n",
    "        cnx.commit()\n",
    "        self.usertype = usertype\n",
    "        self.ID = id\n",
    "        self.username = username\n",
    "        self.password = password\n",
    "        return 1"
   ]
  },
  {
   "cell_type": "code",
   "execution_count": 14,
   "metadata": {},
   "outputs": [
    {
     "name": "stdout",
     "output_type": "stream",
     "text": [
      "Order Placed Successfully!\n",
      "\n",
      "Order ID :  FFB00002\n"
     ]
    }
   ],
   "source": [
    "from IPython.display import clear_output\n",
    "\n",
    "ffb = FFB(cursor)\n",
    "\n",
    "# Sign In / Sign Up\n",
    "clear_output()\n",
    "print(\"\\nSelect an option :\")\n",
    "print(\"\\n1. Log in\")\n",
    "print(\"\\n2. Register\")\n",
    "\n",
    "op = input('Option : ')\n",
    "clear_output()\n",
    "if op == '1':\n",
    "    response = 0\n",
    "    while response == 0:\n",
    "        usertype = input('Login Type (admin/user)?: ')\n",
    "        username = input('User Name : ')\n",
    "        password = input('Password : ')\n",
    "        clear_output()\n",
    "        response = ffb.login(usertype,username,password)\n",
    "elif op == '2':\n",
    "    response = 0\n",
    "    while response == 0:\n",
    "        usertype = input('Login Type (admin/user)?: ')\n",
    "        fullname = input('Full Name : ')\n",
    "        username = input('User Name : ')\n",
    "        password = input('Password : ')\n",
    "        phone = int(input('Phone Number : '))\n",
    "        clear_output()\n",
    "        response = ffb.register(usertype,fullname,username,password,phone)\n",
    "\n",
    "clear_output()\n",
    "\n",
    "# select food \n",
    "cart = {}\n",
    "while True:\n",
    "    print('\\nUser Name : ',ffb.username,'\\t\\t\\tCart : ',len(cart))\n",
    "    print()\n",
    "    categories_list = ffb.show_categories()\n",
    "\n",
    "    for i in range (len(categories_list)):\n",
    "        print(i+1,' ',categories_list[i][1])\n",
    "    print('\\nEnter 0 to proceed to payment')\n",
    "    op = int(input(\"select the category\"))\n",
    "    if op == 0:\n",
    "        break\n",
    "    print(categories_list[op-1][0])\n",
    "    clear_output()\n",
    "    food = ffb.show_food(categories_list[op-1][0])\n",
    "    for j in range(len(food)):\n",
    "        print(j+1,' ',food[j][1],'\\t',food[j][2],' /-')   \n",
    "        \n",
    "    op1 = int(input(\"enter list number to add to cart : \"))\n",
    "    clear_output()\n",
    "    print(food[op1-1][1],\" selected \")\n",
    "    c = int(input(\"Quantity : \"))\n",
    "    if food[op1-1][0] in cart:\n",
    "        cart[food[op1-1][0]] += c\n",
    "    else:\n",
    "        cart[food[op1-1][0]] = c\n",
    "    clear_output()\n",
    "    print(\"1 Add More\\n2 Proceed to payment\")\n",
    "    op3 = int(input('Enter your choice'))\n",
    "    clear_output()\n",
    "    if op3 == 1:\n",
    "        continue\n",
    "    elif op3 == 2:\n",
    "        break\n",
    "    \n",
    "clear_output()\n",
    "print('\\nUser Name : ',ffb.username)\n",
    "print('_____________________________________________')\n",
    "print('\\n\\t\\tReview Order')\n",
    "print('_____________________________________________\\n')\n",
    "print('Name\\t Price\\tQuantity\\tTotal\\n')\n",
    "\n",
    "total = 0\n",
    "for food_id in cart.keys():\n",
    "    food = ffb.show_food_details(food_id)[0]\n",
    "    total += cart[food_id]*float(food[3])\n",
    "    print(food[1],'\\t',food[3],'/- \\t',cart[food_id],'\\t',cart[food_id]*float(food[3]))\n",
    "# cart\n",
    "print('\\n\\t\\tTotal\\t\\t',total,'/-')\n",
    "\n",
    "confirm = input(\"confirm / cancel :\")\n",
    "if confirm == 'confirm':\n",
    "    clear_output()\n",
    "    order_id = ffb.confirm_order(cart)\n",
    "    print('Order Placed Successfully!')\n",
    "    print('\\nOrder ID : ',order_id)\n",
    "else:\n",
    "    print('\\n Order Canceled')"
   ]
  },
  {
   "cell_type": "code",
   "execution_count": 10,
   "metadata": {},
   "outputs": [],
   "source": [
    "cnx.commit()"
   ]
  },
  {
   "cell_type": "code",
   "execution_count": 15,
   "metadata": {},
   "outputs": [
    {
     "name": "stdout",
     "output_type": "stream",
     "text": [
      "Initialized empty Git repository in C:/Users/Surya/Desktop/Lab Programs/DBMS/FFB/.git/\n"
     ]
    },
    {
     "name": "stderr",
     "output_type": "stream",
     "text": [
      "warning: LF will be replaced by CRLF in .ipynb_checkpoints/ffb-checkpoint.ipynb.\n",
      "The file will have its original line endings in your working directory\n",
      "warning: LF will be replaced by CRLF in ffb.ipynb.\n",
      "The file will have its original line endings in your working directory\n"
     ]
    },
    {
     "name": "stdout",
     "output_type": "stream",
     "text": [
      "[master (root-commit) 60fc7cb] Initial commit\n",
      " 2 files changed, 1079 insertions(+)\n",
      " create mode 100644 .ipynb_checkpoints/ffb-checkpoint.ipynb\n",
      " create mode 100644 ffb.ipynb\n"
     ]
    }
   ],
   "source": [
    "# 2.\n",
    "# Initialize a git repository\n",
    "!git init\n",
    "\n",
    "# Add the files to be committed\n",
    "!git add .\n",
    "\n",
    "# Commit the files\n",
    "!git commit -m \"Initial commit\""
   ]
  },
  {
   "cell_type": "code",
   "execution_count": null,
   "metadata": {},
   "outputs": [],
   "source": []
  }
 ],
 "metadata": {
  "kernelspec": {
   "display_name": "Python 3 (ipykernel)",
   "language": "python",
   "name": "python3"
  },
  "language_info": {
   "codemirror_mode": {
    "name": "ipython",
    "version": 3
   },
   "file_extension": ".py",
   "mimetype": "text/x-python",
   "name": "python",
   "nbconvert_exporter": "python",
   "pygments_lexer": "ipython3",
   "version": "3.9.12"
  }
 },
 "nbformat": 4,
 "nbformat_minor": 2
}
